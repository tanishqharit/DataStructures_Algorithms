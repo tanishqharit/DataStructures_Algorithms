{
 "cells": [
  {
   "cell_type": "markdown",
   "metadata": {},
   "source": [
    "GFG Link: https://www.geeksforgeeks.org/selection-sort-algorithm-2/"
   ]
  },
  {
   "cell_type": "markdown",
   "metadata": {},
   "source": [
    "Selection Sort is a comparison-based sorting algorithm. It sorts an array by repeatedly selecting the smallest (or largest) element from the unsorted portion and swapping it with the first unsorted element. This process continues until the entire array is sorted."
   ]
  },
  {
   "cell_type": "code",
   "execution_count": null,
   "metadata": {},
   "outputs": [
    {
     "name": "stdout",
     "output_type": "stream",
     "text": [
      "Original Array: [64, 25, 12, 22, 11]\n",
      "Sorted Array: [11, 12, 22, 25, 64]\n"
     ]
    }
   ],
   "source": [
    "# Implementing Selection Sort on an Array. \n",
    "\n",
    "def selectionSort(array):\n",
    "    n = len(array)\n",
    "    \n",
    "    for i in range(len(array)):\n",
    "        \n",
    "        minimum_index = i       # Assuming that the current position holds the minimum element. \n",
    "        \n",
    "        for j in range(i + 1, n):   # Iterating through the unsorted portion to find actual minimum. \n",
    "            if array[j] < array[minimum_index]:     # If we found smaller element than minimum_index \n",
    "                minimum_index = j                   # then put that value in j (current position).\n",
    "\n",
    "        array[i], array[minimum_index] = array[minimum_index], array[i]\n",
    "        # moving minimum element to its current position. \n",
    "\n",
    "if __name__ == \"__main__\":\n",
    "    \n",
    "    array = [64, 25, 12, 22, 11]    # our array (which we want to sort)\n",
    "    \n",
    "    print(\"Original Array:\",array)  # printing original array \n",
    "    \n",
    "    selectionSort(array)            # putting our original array in sorting function \n",
    "    \n",
    "    print(\"Sorted Array:\",array)    # finally printing the sorted array "
   ]
  },
  {
   "cell_type": "markdown",
   "metadata": {},
   "source": [
    "Time Complexity is O(n^2) as there are two nested loops. \n",
    "\n",
    "- First loop is select element of array one by one - O(n)\n",
    "\n",
    "- Second loop to compare that element with every other element - O(n)\n",
    "\n",
    "Therefore, overall complexity = O(n) * O(n) = O(n * n) = O(n^2)\n",
    "\n",
    "Space Complexity is O(1) as the only extra memory used is for temporary variables."
   ]
  },
  {
   "cell_type": "markdown",
   "metadata": {},
   "source": [
    "Advantages of Selection Sort: \n",
    "\n",
    "1. Easy to understand and implement. \n",
    "2. Requires only a constant O(1) extra memory space. \n",
    "3. It requires less number of memory swaps (memory writes) compared to other. \n",
    "\n",
    "Disadvantages of Selection Sort: \n",
    "\n",
    "1. Time complexity of O(n^2) making it slower compared to other (Merge Sort or Quick Sort)\n",
    "2. Does not mantain relative order of equal elements. \n",
    "3. Does not preserve the relative order of items with equal keys which means it is not stable.\n",
    "\n",
    "Applications of Selection Sort: \n",
    "\n",
    "1. Suitable for small lists. \n",
    "2. Ideal for systems with limited memory due to its in-place capability. \n",
    "3. Used in simple embedded systems where resource availability is limited and simplicity is important."
   ]
  },
  {
   "cell_type": "markdown",
   "metadata": {},
   "source": [
    "1. Selection Sort is not stable as it may change the relative order of equal elements.\n",
    "2. Selection Sort has a time complexity of O(n^2) in the best, average, and worst cases.\n",
    "3. Selection Sort is an in-place sorting algorithm and requires only O(1) additional space."
   ]
  }
 ],
 "metadata": {
  "kernelspec": {
   "display_name": "Python 3",
   "language": "python",
   "name": "python3"
  },
  "language_info": {
   "codemirror_mode": {
    "name": "ipython",
    "version": 3
   },
   "file_extension": ".py",
   "mimetype": "text/x-python",
   "name": "python",
   "nbconvert_exporter": "python",
   "pygments_lexer": "ipython3",
   "version": "3.12.0"
  }
 },
 "nbformat": 4,
 "nbformat_minor": 2
}
