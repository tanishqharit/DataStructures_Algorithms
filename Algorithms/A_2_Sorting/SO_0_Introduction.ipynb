{
 "cells": [
  {
   "cell_type": "markdown",
   "metadata": {},
   "source": [
    "GFG Link: https://www.geeksforgeeks.org/introduction-to-sorting-algorithm/?ref=outind"
   ]
  },
  {
   "cell_type": "markdown",
   "metadata": {},
   "source": [
    "Sorting is rearrangement of array elements according to a comparison operator on the elements. The comparison operator is used to decide the new order of elements in the respective data structure.\n",
    "\n",
    "Sorting algorithms reduce complexity of a problem. "
   ]
  },
  {
   "cell_type": "markdown",
   "metadata": {},
   "source": [
    "Ways of Sorting: \n",
    "\n",
    "1. In-place Sorting: "
   ]
  },
  {
   "cell_type": "markdown",
   "metadata": {},
   "source": [
    "Types of Sorting Algorithms: \n",
    "\n",
    "Comparison Based :-\n",
    "\n",
    "1. Selection Sort\n",
    "2. Bubble Sort\n",
    "3. Insertion Sort\n",
    "4. Merge Sort \n",
    "5. Quick Sort\n",
    "6. Heap Sort\n",
    "\n",
    "Non Comparison Based :-\n",
    "\n",
    "1. Counting Sort\n",
    "2. Radix Sort\n",
    "\n",
    "More Sorting Algorithms :-\n",
    "\n",
    "1. Bucket Sort\n",
    "2. Tim Sort\n",
    "3. Shell Sort"
   ]
  }
 ],
 "metadata": {
  "kernelspec": {
   "display_name": "Python 3",
   "language": "python",
   "name": "python3"
  },
  "language_info": {
   "codemirror_mode": {
    "name": "ipython",
    "version": 3
   },
   "file_extension": ".py",
   "mimetype": "text/x-python",
   "name": "python",
   "nbconvert_exporter": "python",
   "pygments_lexer": "ipython3",
   "version": "3.12.0"
  }
 },
 "nbformat": 4,
 "nbformat_minor": 2
}
