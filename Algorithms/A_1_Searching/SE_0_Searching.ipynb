{
 "cells": [
  {
   "cell_type": "markdown",
   "metadata": {},
   "source": [
    "GFG MainLink: https://www.geeksforgeeks.org/searching-algorithms/?ref=outind\n",
    "\n",
    "GFG SubLink: https://www.geeksforgeeks.org/introduction-to-searching-algorithms-2/\n",
    "\n",
    "GFG SubLink2: https://www.geeksforgeeks.org/importance-of-searching-in-data-structure/"
   ]
  },
  {
   "cell_type": "markdown",
   "metadata": {},
   "source": [
    "Searching Algorithms are essential tools in computer science used to locate specific items in a collection of data. These algorithms are designed to effeciently navigate through data structures to find desired information. \n",
    "\n",
    "The primary objective of searching is to determine whether the desired element exists within the data, and if so, to identify its precise location or retrieve it."
   ]
  },
  {
   "cell_type": "markdown",
   "metadata": {},
   "source": [
    "Characteristics of Searching: \n",
    "\n",
    "1. Target Element: Item/element that we want to find within the data collection. \n",
    "2. Search Space: Entire collection of data within which we are looking for target element. \n",
    "3. Complexity: Searching can have different levels of complexity depending on the data structure and the algorithm used.\n",
    "4. Deterministic vs Non-deterministic: Some searching algorithms, like binary search, are deterministic, meaning they follow a clear and systematic approach. Others, such as linear search, are non-deterministic, as they may need to examine the entire search space in the worst case."
   ]
  },
  {
   "cell_type": "markdown",
   "metadata": {},
   "source": [
    "Different Searching Algorithms: \n",
    "\n",
    "1. Linear Search \n",
    "2. Binary Search \n",
    "3. Ternary Search \n",
    "4. Jump Search \n",
    "5. Interpolation Search \n",
    "6. Fibbonacci Search \n",
    "7. Exponential Search "
   ]
  },
  {
   "cell_type": "markdown",
   "metadata": {},
   "source": [
    "Applications of Searching: \n",
    "\n",
    "1. Information Retrieval: Search Engines \n",
    "2. Database Systems \n",
    "3. E-Commerce Websites \n",
    "4. Computer Networking: For routing packets effeciently through network. \n",
    "5. Pattern Recognition: Pattern matching tasks in image recognition, speech recognition."
   ]
  },
  {
   "cell_type": "markdown",
   "metadata": {},
   "source": [
    "Factors Affecting Search Effeciency: \n",
    "\n",
    "1. Size of the collection: Larger collection takes more time to search. \n",
    "2. Type of data structure: Some data structures (eg. Arrays) are more effecient in searching than other (eg. Linked Lists)\n",
    "3. Different search algorithms have varying time complexities."
   ]
  }
 ],
 "metadata": {
  "language_info": {
   "name": "python"
  }
 },
 "nbformat": 4,
 "nbformat_minor": 2
}
