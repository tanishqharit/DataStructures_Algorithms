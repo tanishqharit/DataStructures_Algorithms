{
 "cells": [
  {
   "cell_type": "markdown",
   "metadata": {},
   "source": [
    "Binary Search algorithm is a searching algorithm used in SORTED arrays or lists. \n",
    "\n",
    "By repeatedly dividing the search interval in half until the target value is found or interval is empty. \n",
    "\n",
    "Search interval is halved by comparing the target element with MIDDLE VALUE of the search space.\n",
    "\n",
    "The idea of binary search is to use the information that the array is sorted and reduce the time complexity to O(log n)."
   ]
  },
  {
   "cell_type": "markdown",
   "metadata": {},
   "source": [
    "Implementation of Binary Search \n",
    "\n",
    "1. Divide the search space into two halves by finding the middle index. \n",
    "2. Compare the middle index element with the key. \n",
    "3. If the key is found at middle index, then process is terminated.\n",
    "4. If key is not found, then choose which half will be used as next search space. \n",
    "5. If key is smaller than middle index element, then use left side as next search space. \n",
    "6. If key is larger than middle index element, then use right side as next search space. \n",
    "7. This process is continued until the key is found or the total search space is exhausted. \n",
    "8. If the total search space is exhausted then key element is not present in that list. (returns -1)"
   ]
  },
  {
   "cell_type": "code",
   "execution_count": 5,
   "metadata": {},
   "outputs": [
    {
     "name": "stdout",
     "output_type": "stream",
     "text": [
      "Element is present at index 3\n",
      "Element is not present in array\n"
     ]
    }
   ],
   "source": [
    "# Implementing Iterative Binary Search on an array using while loop \n",
    "\n",
    "def BinarySearch(array, lower_bound, upper_bound, target_element):\n",
    "    \n",
    "    while lower_bound <= upper_bound:\n",
    "        \n",
    "        # Calculating the middle index \n",
    "        middle_index = lower_bound + (upper_bound - lower_bound) // 2\n",
    "        \n",
    "        # Checking if target_element is present at middle_index \n",
    "        if array[middle_index] == target_element:\n",
    "            return middle_index\n",
    "        \n",
    "        # If x is greater, ignore the left half \n",
    "        elif array[middle_index] < target_element:\n",
    "            lower_bound = middle_index + 1          # upper bound will remain same \n",
    "        \n",
    "        # If x is smaller, ignore the right half \n",
    "        else:                                       # array(middle_index) > target_element:\n",
    "            upper_bound = middle_index - 1          # lower bound will remain same \n",
    "        \n",
    "    return -1       # element not found\n",
    "\n",
    "if __name__ == '__main__':      # default values.\n",
    "    array = [2, 3, 4, 10, 40]\n",
    "    lower_bound = 0\n",
    "    upper_bound = len(array) - 1\n",
    "    # target_element = write in result\n",
    "\n",
    "# Case 1\n",
    "result = BinarySearch(array, lower_bound, upper_bound, 10)\n",
    "if result != -1:\n",
    "    print(\"Element is present at index\", result)\n",
    "else:\n",
    "    print(\"Element is not present in array\")\n",
    "\n",
    "# Case 2 \n",
    "result2 = BinarySearch(array, lower_bound, upper_bound, 39)\n",
    "if result2 != -1:\n",
    "    print(\"Element is present at index\", result)\n",
    "else:\n",
    "    print(\"Element is not present in array\")"
   ]
  },
  {
   "cell_type": "markdown",
   "metadata": {},
   "source": [
    "Time and Space Complexity of Binary Search Algorithm \n",
    "\n",
    "1. Best Case: O(1)\n",
    "2. Average Case: O(log n)\n",
    "3. Worst Case: O(log n)\n",
    "4. Auxiliary Space O(1)"
   ]
  },
  {
   "cell_type": "code",
   "execution_count": null,
   "metadata": {},
   "outputs": [],
   "source": [
    "# Recursive Binary Search - pending"
   ]
  },
  {
   "cell_type": "markdown",
   "metadata": {},
   "source": [
    "Applications of Binary Search: \n",
    "\n",
    "1. Can be used as a building block for more complex algorithms used in machine learning. \n",
    "2. Can be used as for searching in computer graphics such as algorithms for ray tracing etc. \n",
    "3. Can be used for searching a database. \n",
    "\n",
    "Advantages of Binary Search: \n",
    "\n",
    "1. Faster than linear search, especially for large arrays. \n",
    "2. More effecient than other searching algorithms with similar time complexities.\n",
    "\n",
    "Disadvantages of Binary Search: \n",
    "\n",
    "1. The array or list should be sorted. \n",
    "2. Data structure should be stored in contiguous memory location.\n",
    "3. Requires elements to be comparable, meaning that they must be able to be ordered."
   ]
  },
  {
   "cell_type": "markdown",
   "metadata": {},
   "source": [
    "1. If array is not sorted, then binary search may return incorrect results. It relies on sorted nature of the array to make decisions about which half of the array to search. We need to sort the array first.\n",
    "2. Binary search can be applied to an non-numeric data as long as there is defined order. It can be used to search strings in alphabetical order. "
   ]
  }
 ],
 "metadata": {
  "kernelspec": {
   "display_name": "Python 3",
   "language": "python",
   "name": "python3"
  },
  "language_info": {
   "codemirror_mode": {
    "name": "ipython",
    "version": 3
   },
   "file_extension": ".py",
   "mimetype": "text/x-python",
   "name": "python",
   "nbconvert_exporter": "python",
   "pygments_lexer": "ipython3",
   "version": "3.12.0"
  }
 },
 "nbformat": 4,
 "nbformat_minor": 2
}
