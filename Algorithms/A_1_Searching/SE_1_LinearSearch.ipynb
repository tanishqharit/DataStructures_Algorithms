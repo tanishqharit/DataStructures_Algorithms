{
 "cells": [
  {
   "cell_type": "markdown",
   "metadata": {},
   "source": [
    "Linear Search also known as Sequential Search is a simple searching algorithm that iterates through each element in an array or a list, comparing with the target element until a match is found or the end of the list is reached. If the end is reached then it means the target element is not present in the list.\n",
    "\n",
    "Time Complexity of linear search algorithm is O(n), where 'n' is the number of elements in the list or array being searched. This means the time taken for searching increases linearly with the size of the input. This is the average case and also the worst case.\n",
    "\n",
    "In best case, the target element might me present at the first index, then complexity is O(1).\n",
    "\n",
    "Space Complexity is O(1) as except for the variable to iterate through the list, no other variable is used. But, Linear search requires constant amount of memory to run."
   ]
  },
  {
   "cell_type": "code",
   "execution_count": null,
   "metadata": {},
   "outputs": [
    {
     "name": "stdout",
     "output_type": "stream",
     "text": [
      "2\n",
      "-1\n",
      "Element is not present in the array.\n"
     ]
    }
   ],
   "source": [
    "# Function to implement Linear Search Algorithm in an array.\n",
    "\n",
    "def Linear_Search(array, target_element):\n",
    "    for i in range(len(array)):\n",
    "        if(array[i]) == target_element:\n",
    "            return i\n",
    "    return -1\n",
    "\n",
    "print(Linear_Search([54, 67, 89, 32], 89))\n",
    "print(Linear_Search([54, 67, 89, 32], 87))\n",
    "\n",
    "# Enhancing output (function call) - by making a container and putting conditionals on it.\n",
    "result = Linear_Search([54, 67, 89, 32], 87)\n",
    "if result == -1:\n",
    "    print(\"Element is not present in the array.\")\n",
    "else:\n",
    "    print(\"Element is present at index:\",result)"
   ]
  },
  {
   "cell_type": "markdown",
   "metadata": {},
   "source": [
    "Applications: \n",
    "1. Most commonly used with Unsorted lists/arrays. \n",
    "2. When we have small datasets or lists. \n",
    "3. Commonly used with Linked Lists. Each node is checked sequentially until desired element is found. \n",
    "4. Much easier to understand and implement compared to other searching algorithms.\n",
    "\n",
    "Advantages: \n",
    "1. Can be used irrespective of whether array is sorted or not. \n",
    "2. Can be used with an array of any datatype. \n",
    "3. Does not require any additional memory. \n",
    "4. Well suited for small datasets. \n",
    "5. Low memory usage.\n",
    "6. Easy to debug.\n",
    "\n",
    "Disadvantages: \n",
    "1. No early termination, linear search has no mechanism to terminate early once the target is found.\n",
    "2. Linear search has time complexity of O(n), which in turns makes is slow for large datasets.\n",
    "3. Ofcourse, not suitable for large arrays or lists. "
   ]
  },
  {
   "cell_type": "markdown",
   "metadata": {},
   "source": [
    "1. Linear search algorithm can be applied to other LINEAR data structures. The principle remains the same, iterating through each element until target is found or end is reached.\n",
    "2. Linear search is not the best option for SORTED arrays or lists. Binary search is more suitable as it has complexity of O(log n).\n",
    "3. Real life applications: Phone book search, Spell checkers, Finding minimum and maximum value."
   ]
  }
 ],
 "metadata": {
  "kernelspec": {
   "display_name": "Python 3",
   "language": "python",
   "name": "python3"
  },
  "language_info": {
   "codemirror_mode": {
    "name": "ipython",
    "version": 3
   },
   "file_extension": ".py",
   "mimetype": "text/x-python",
   "name": "python",
   "nbconvert_exporter": "python",
   "pygments_lexer": "ipython3",
   "version": "3.12.0"
  }
 },
 "nbformat": 4,
 "nbformat_minor": 2
}
