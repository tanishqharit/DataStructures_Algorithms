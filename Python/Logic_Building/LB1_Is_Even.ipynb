{
 "cells": [
  {
   "cell_type": "code",
   "execution_count": 1,
   "metadata": {},
   "outputs": [
    {
     "name": "stdout",
     "output_type": "stream",
     "text": [
      "False\n"
     ]
    }
   ],
   "source": [
    "def isNumberEven(n):\n",
    "    return (n % 2 == 0)\n",
    "\n",
    "if __name__ == \"__main__\":\n",
    "    n = 101\n",
    "    \n",
    "    if isNumberEven(n):\n",
    "        print(\"True\")\n",
    "    else:\n",
    "        print(\"False\")"
   ]
  },
  {
   "cell_type": "code",
   "execution_count": null,
   "metadata": {},
   "outputs": [
    {
     "name": "stdout",
     "output_type": "stream",
     "text": [
      "True\n"
     ]
    }
   ],
   "source": [
    "def isNumOdd(n):\n",
    "    return (n % 2 != 0)\n",
    "\n",
    "if __name__ == \"__main__\":\n",
    "    n = int(input())            # Entered a number (21)\n",
    "    \n",
    "    if isNumOdd(n):\n",
    "        print(\"True\")\n",
    "    else:\n",
    "        print(\"Odd\")"
   ]
  }
 ],
 "metadata": {
  "kernelspec": {
   "display_name": "Python 3",
   "language": "python",
   "name": "python3"
  },
  "language_info": {
   "codemirror_mode": {
    "name": "ipython",
    "version": 3
   },
   "file_extension": ".py",
   "mimetype": "text/x-python",
   "name": "python",
   "nbconvert_exporter": "python",
   "pygments_lexer": "ipython3",
   "version": "3.12.0"
  }
 },
 "nbformat": 4,
 "nbformat_minor": 2
}
