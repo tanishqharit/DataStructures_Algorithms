{
 "cells": [
  {
   "cell_type": "code",
   "execution_count": 2,
   "metadata": {},
   "outputs": [
    {
     "name": "stdout",
     "output_type": "stream",
     "text": [
      "59\n",
      "Below Par\n"
     ]
    }
   ],
   "source": [
    "# Grading System \n",
    "\n",
    "def gradingSystem(marks):\n",
    "    \n",
    "    if 100 >= marks >= 0:\n",
    "        if marks > 90: \n",
    "            print(\"Excellent\")\n",
    "        elif 90 >= marks > 80:\n",
    "            print(\"Good\")\n",
    "        elif 80 >= marks > 70:\n",
    "            print(\"Fair\")\n",
    "        elif 70 >= marks > 60:\n",
    "            print(\"Meets Expectation\")\n",
    "        else:\n",
    "            print(\"Below Par\")\n",
    "    else:\n",
    "        print(\"Please enter a number between 0 to 100.\")\n",
    "\n",
    "if __name__ == \"__main__\":\n",
    "    marks = int(input(\"Enter marks:\"))\n",
    "    print(marks)\n",
    "    gradingSystem(marks)"
   ]
  },
  {
   "cell_type": "code",
   "execution_count": null,
   "metadata": {},
   "outputs": [],
   "source": [
    "# Is number a prime \n",
    "\n",
    "def checkPrime(inputs_no, number):\n",
    "    \n",
    "    inputs_no = int(input)      # number of inputs \n",
    "    \n",
    "    for i in range(inputs_no):\n",
    "        \n",
    "        number = int(input)\n",
    "        count = 0\n",
    "        divisor = 1\n",
    "        \n",
    "        while divisor <= number:\n",
    "            if number % divisor == 0:\n",
    "                count += 1\n",
    "            divisor += 1\n",
    "\n",
    "if __name__ == \"__main__\":"
   ]
  }
 ],
 "metadata": {
  "kernelspec": {
   "display_name": "Python 3",
   "language": "python",
   "name": "python3"
  },
  "language_info": {
   "codemirror_mode": {
    "name": "ipython",
    "version": 3
   },
   "file_extension": ".py",
   "mimetype": "text/x-python",
   "name": "python",
   "nbconvert_exporter": "python",
   "pygments_lexer": "ipython3",
   "version": "3.12.0"
  }
 },
 "nbformat": 4,
 "nbformat_minor": 2
}
