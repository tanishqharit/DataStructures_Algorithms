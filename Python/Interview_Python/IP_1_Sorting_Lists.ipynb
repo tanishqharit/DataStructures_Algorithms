{
 "cells": [
  {
   "cell_type": "markdown",
   "metadata": {},
   "source": [
    "In Python, we can sort a list of elements by calling .sort() method on the list.\n",
    "\n",
    "- elements = [5, 3, 6, 2, 1]\n",
    "- elements.sort()\n",
    "- elements = [1, 2, 3, 5, 6]\n",
    "\n",
    "By default, .sort() method sorts the elements in ascending order in-place.\n",
    "\n",
    "Return value of .sort() method is None.\n",
    "\n",
    "Also works for string lists,\n",
    "\n",
    "- elements = [\"grape\", \"apple\", \"banana\", \"orange\"]\n",
    "- elements.sort()\n",
    "- print(elements) # ['apple', 'banana', 'grape', 'orange']"
   ]
  },
  {
   "cell_type": "code",
   "execution_count": 5,
   "metadata": {},
   "outputs": [
    {
     "name": "stdout",
     "output_type": "stream",
     "text": [
      "['apple', 'banana', 'blueberry', 'cherry', 'kiwi', 'pear', 'watermelon', 'zucchini']\n",
      "[1, 2, 2, 2, 3, 4, 4, 5, 5, 6, 6, 7, 9, 11, 19]\n",
      "[2.82, 3.14, 6.433, 7.9, 21.554, 21.555]\n"
     ]
    }
   ],
   "source": [
    "from typing import List\n",
    "\n",
    "def sort_words(words : List[str]) -> List[str]:\n",
    "    words.sort()\n",
    "    return words\n",
    "\n",
    "def sort_numbers(numbers : List[int]) -> List[int]:\n",
    "    numbers.sort()\n",
    "    return numbers\n",
    "\n",
    "def sort_decimals(numbers : List[float]) -> List[float]:\n",
    "    numbers.sort()\n",
    "    return numbers\n",
    "\n",
    "print(sort_words([\"cherry\", \"apple\", \"blueberry\", \"banana\", \"watermelon\", \"zucchini\", \"kiwi\", \"pear\"]))\n",
    "print(sort_numbers([1, 5, 3, 2, 4, 11, 19, 9, 2, 5, 6, 7, 4, 2, 6]))\n",
    "print(sort_decimals([3.14, 2.82, 6.433, 7.9, 21.555, 21.554]))"
   ]
  },
  {
   "cell_type": "markdown",
   "metadata": {},
   "source": [
    "Python uses Timsort Algorithm to sort lists. Timsort is a hybrid sorting algorithm derived from merge sort and insertion sort.\n",
    "\n",
    "Time Complexity: O(nlogn)\n",
    "\n",
    "Space Complexity: O(n)"
   ]
  },
  {
   "cell_type": "markdown",
   "metadata": {},
   "source": [
    "Above, lists are sorted in ascending order, now we will try descending sorting.\n",
    "\n",
    ".sort() method also accepts some optional parameters.\n",
    "\n",
    "sort(key = None, reverse = False)\n",
    "\n",
    "- key parameter allows us to customize the sorting order.\n",
    "- reverse parameter is a boolean value that determines whether the list should be sorted in descending order. By default, it is set to False. We can set this parameter to true to reverse sort the list.\n",
    "\n",
    "Example: \n",
    "- elements = [5, 3, 6, 2, 1]\n",
    "- elements.sort(key=None, reverse=True)\n",
    "- print(elements) # [6, 5, 3, 2, 1]\n",
    "\n",
    "It is also possible to sort the result in ascending order and then manually reverse the result.\n",
    "\n",
    "- element = [5, 3, 6, 2, 1]\n",
    "- elements.sort()\n",
    "- elements.reverse()\n",
    "- print(elements) # [6, 5, 3, 2, 1]"
   ]
  },
  {
   "cell_type": "code",
   "execution_count": null,
   "metadata": {},
   "outputs": [
    {
     "name": "stdout",
     "output_type": "stream",
     "text": [
      "['zucchini', 'watermelon', 'pear', 'kiwi', 'cherry', 'blueberry', 'banana', 'apple']\n",
      "[19, 11, 9, 7, 6, 6, 5, 5, 4, 4, 3, 2, 2, 2, 1]\n",
      "[21.555, 21.554, 7.9, 6.433, 3.14, 2.82]\n"
     ]
    }
   ],
   "source": [
    "from typing import List\n",
    "\n",
    "def sort_words(words: List[str]) -> List[str]:\n",
    "    words.sort(reverse = True)\n",
    "    return words\n",
    "\n",
    "def sort_numbers(numbers: List[int]) -> List[int]:\n",
    "    numbers.sort(reverse = True)\n",
    "    return numbers\n",
    "\n",
    "def sort_decimals(numbers: List[float]) -> List[float]:\n",
    "    numbers.sort(reverse = True)\n",
    "    return numbers\n",
    "\n",
    "print(sort_words([\"cherry\", \"apple\", \"blueberry\", \"banana\", \"watermelon\", \"zucchini\", \"kiwi\", \"pear\"]))\n",
    "print(sort_numbers([1, 5, 3, 2, 4, 11, 19, 9, 2, 5, 6, 7, 4, 2, 6]))\n",
    "print(sort_decimals([3.14, 2.82, 6.433, 7.9, 21.555, 21.554]))"
   ]
  },
  {
   "cell_type": "markdown",
   "metadata": {},
   "source": [
    "We can also specify the custom sort using the key parameter in .sort() method.\n",
    "\n",
    "The key parameter does not accept any value, instead it accepts a function that returns a value to be used in sorting.\n",
    "\n",
    "Example:\n",
    "- words = [\"apple\", \"banana\", \"kiwi\", \"pear\", \"watermelon\", \"blueberry\", \"cherry\"]\n",
    "- we can make a function called word_length and can pass that function into the sort method to arrange words in increasing word length.\n",
    "- print(words)\n",
    "- ['kiwi', 'pear', 'apple', 'banana', 'cherry', 'blueberry', 'watermelon']\n"
   ]
  },
  {
   "cell_type": "code",
   "execution_count": null,
   "metadata": {},
   "outputs": [
    {
     "name": "stdout",
     "output_type": "stream",
     "text": [
      "['kiwi', 'pear', 'apple', 'cherry', 'banana', 'zucchini', 'blueberry', 'watermelon']\n",
      "[1, 2, -2, 2, -3, 4, -4, -5, 5, -6, 6, 7, 9, 11, -19]\n"
     ]
    }
   ],
   "source": [
    "from typing import List\n",
    "\n",
    "def word_len(words):\n",
    "    return len(words)\n",
    "\n",
    "def abs_value(numbers):\n",
    "    return abs(numbers)\n",
    "\n",
    "def sort_words(words: List[str]) -> List[str]:\n",
    "    words.sort(key = word_len, reverse = True)\n",
    "    return words\n",
    "\n",
    "def sort_numbers(numbers: List[int]) -> List[int]:\n",
    "    numbers.sort(key = abs_value, reverse = True)\n",
    "    return numbers\n",
    "\n",
    "print(sort_words([\"cherry\", \"apple\", \"blueberry\", \"banana\", \"watermelon\", \"zucchini\", \"kiwi\", \"pear\"]))\n",
    "print(sort_numbers([1, -5, -3, 2, 4, 11, -19, 9, -2, 5, -6, 7, -4, 2, 6]))"
   ]
  },
  {
   "cell_type": "markdown",
   "metadata": {},
   "source": [
    "Defining a function just to pass it into the key parameter of .sort() method can be complicated.\n",
    "\n",
    "We can use Lambda function to define a function in a single line and pass it directly to .sort() method.\n",
    "\n",
    "Example:\n",
    "- words = [\"apple\", \"banana\", \"kiwi\", \"pear\", \"watermelon\", \"blueberry\", \"cherry\"]\n",
    "- words.sort(key=lambda word: len(word))\n",
    "- print(words)\n",
    "- ['kiwi', 'pear', 'apple', 'banana', 'cherry', 'blueberry', 'watermelon']\n",
    "\n",
    "Here, The lambda function lambda word: len(word) is equivalent to the function get_word_length we defined in the previous example.\n",
    "\n",
    "A lambda function must be a single expression, and it cannot contain multiple statements."
   ]
  },
  {
   "cell_type": "code",
   "execution_count": 9,
   "metadata": {},
   "outputs": [
    {
     "name": "stdout",
     "output_type": "stream",
     "text": [
      "['watermelon', 'blueberry', 'zucchini', 'cherry', 'banana', 'apple', 'kiwi', 'pear']\n",
      "[1, 2, -2, 2, -3, 4, -4, -5, 5, -6, 6, 7, 9, 11, -19]\n"
     ]
    }
   ],
   "source": [
    "from typing import List\n",
    "\n",
    "def sort_words(words: List[str]) -> List[str]:\n",
    "    words.sort(key = lambda word: len(word), reverse = True)\n",
    "    return words\n",
    "\n",
    "def sort_numbers(numbers: List[int]) -> List[int]:\n",
    "    numbers.sort(key = lambda number: abs(number))\n",
    "    return numbers\n",
    "\n",
    "print(sort_words([\"cherry\", \"apple\", \"blueberry\", \"banana\", \"watermelon\", \"zucchini\", \"kiwi\", \"pear\"]))\n",
    "print(sort_numbers([1, -5, -3, 2, 4, 11, -19, 9, -2, 5, -6, 7, -4, 2, 6]))"
   ]
  },
  {
   "cell_type": "markdown",
   "metadata": {},
   "source": [
    "There is another way to sort a list in python, using sorted() function.\n",
    "\n",
    "sorted() function returns a new list with the elements sorted in the specific order. The original list remains unchanged.\n",
    "\n",
    "Example:\n",
    "- words = [\"kiwi\", \"pear\", \"apple\", \"banana\", \"cherry\", \"blueberry\"]\n",
    "- sorted_words = sorted(words)\n",
    "- print(sorted_words)\n",
    "- ['apple', 'banana', 'blueberry', 'cherry', 'kiwi', 'pear']\n",
    "\n",
    "The sorted() function takes the list as the first argument and returns a new list with the elements sorted in ascending order by default.\n",
    "\n",
    "Similar to .sort() method, sorted() function also have key and reverse parameters.\n",
    "\n",
    "For the most part, it's similar to the sort() method, but it returns a new list instead of modifying the original list."
   ]
  },
  {
   "cell_type": "code",
   "execution_count": 6,
   "metadata": {},
   "outputs": [
    {
     "name": "stdout",
     "output_type": "stream",
     "text": [
      "['cherry', 'apple', 'blueberry', 'banana', 'watermelon', 'zucchini', 'kiwi', 'pear']\n",
      "['apple', 'banana', 'blueberry', 'cherry', 'kiwi', 'pear', 'watermelon', 'zucchini']\n",
      "[1, -5, -3, 2, 4, 11, -19, 9, -2, 5, -6, 7, -4, 2, 6]\n",
      "[-19, 11, 9, 7, -6, 6, -5, 5, 4, -4, -3, 2, -2, 2, 1]\n"
     ]
    }
   ],
   "source": [
    "from typing import List\n",
    "\n",
    "def sort_words(words: List[str]) -> List[str]:\n",
    "    sorted_words = sorted(words)\n",
    "    return sorted_words\n",
    "\n",
    "def sort_numbers(numbers: List[int]) -> List[int]:\n",
    "    sorted_numbers = sorted(numbers, key = lambda num: abs(num), reverse = True)\n",
    "    return sorted_numbers\n",
    "\n",
    "original_words = [\"cherry\", \"apple\", \"blueberry\", \"banana\", \"watermelon\", \"zucchini\", \"kiwi\", \"pear\"]\n",
    "print(original_words)\n",
    "print(sort_words(original_words))\n",
    "\n",
    "original_numbers = [1, -5, -3, 2, 4, 11, -19, 9, -2, 5, -6, 7, -4, 2, 6]\n",
    "print(original_numbers)\n",
    "print(sort_numbers(original_numbers))"
   ]
  }
 ],
 "metadata": {
  "kernelspec": {
   "display_name": "Python 3",
   "language": "python",
   "name": "python3"
  },
  "language_info": {
   "codemirror_mode": {
    "name": "ipython",
    "version": 3
   },
   "file_extension": ".py",
   "mimetype": "text/x-python",
   "name": "python",
   "nbconvert_exporter": "python",
   "pygments_lexer": "ipython3",
   "version": "3.12.0"
  }
 },
 "nbformat": 4,
 "nbformat_minor": 2
}
