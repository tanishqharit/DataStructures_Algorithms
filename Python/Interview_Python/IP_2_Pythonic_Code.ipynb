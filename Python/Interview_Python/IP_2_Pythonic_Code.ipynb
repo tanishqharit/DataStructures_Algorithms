{
 "cells": [
  {
   "cell_type": "markdown",
   "metadata": {},
   "source": [
    "The biggest advantage of using Python for coding interviews is its simplicity and readability. In this section we will learn some of the shortcuts Python provides to make our code easy to read and write."
   ]
  },
  {
   "cell_type": "code",
   "execution_count": 1,
   "metadata": {},
   "outputs": [
    {
     "name": "stdout",
     "output_type": "stream",
     "text": [
      "2.0\n"
     ]
    }
   ],
   "source": [
    "point1 = [0,0]\n",
    "point2 = [2,4]\n",
    "\n",
    "x1, y1 = point1\n",
    "x2, y2 = point2\n",
    "\n",
    "slope = (y2 - y1) / (x2- x1)\n",
    "print(slope)"
   ]
  },
  {
   "cell_type": "markdown",
   "metadata": {},
   "source": [
    "**Unpacking**\n",
    "\n",
    "- Above we have a code that calculated slope of a line.\n",
    "\n",
    "- Each point is a list of 2 integers.\n",
    "\n",
    "- Notice how we have two variables on the left side of the assignment operator, with a list on the right side. This is called unpacking. We know point1 and point2 are lists of size 2, so we can unpack them into two variables each.\n",
    "\n",
    "If we attempt unpacking with too many variables on the left-side, we will get a ValueError.\n",
    "\n",
    "x, y = [0, 0, 0] \n",
    "\n",
    "ValueError: too many values to unpack (expected 2)\n",
    "\n",
    "Unpacking also works with tuples and sets with the same syntax."
   ]
  },
  {
   "cell_type": "code",
   "execution_count": 3,
   "metadata": {},
   "outputs": [
    {
     "name": "stdout",
     "output_type": "stream",
     "text": [
      "6\n",
      "189\n"
     ]
    }
   ],
   "source": [
    "from typing import List, Tuple\n",
    "\n",
    "def sum_3_integers(triplet: List[int]) -> int:\n",
    "    x, y, z = triplet\n",
    "    return x + y + z\n",
    "\n",
    "def compute_volume(box_dimensions: Tuple[int, int, int]) -> int:\n",
    "    width, height, depth = box_dimensions\n",
    "    return width * height * depth\n",
    "\n",
    "print(sum_3_integers([1, 2, 3]))\n",
    "print(compute_volume((3, 9, 7)))"
   ]
  },
  {
   "cell_type": "markdown",
   "metadata": {},
   "source": [
    "**Loop Unpacking**\n",
    "\n",
    "We can also use unpacking in loops to iterate over a list of lists. This is useful when we know the size of the inner lists and want to unpack them into variables.\n",
    "\n",
    "**best_student(scores: List[Tuple[str, int]]) -> str:** that takes a list of tuples. Each tuple represents the (name, score) of a student. Find the student with the highest score and return their name."
   ]
  },
  {
   "cell_type": "code",
   "execution_count": 4,
   "metadata": {},
   "outputs": [
    {
     "name": "stdout",
     "output_type": "stream",
     "text": [
      "Alice\n",
      "Charlie\n",
      "Bob\n",
      "David\n"
     ]
    }
   ],
   "source": [
    "from typing import List, Tuple\n",
    "\n",
    "def best_student(scores: List[Tuple[str, int]]) -> str:\n",
    "\n",
    "    best_score, best_student_name = 0, \"\"\n",
    "    for name, score in scores:\n",
    "        if score > best_score:\n",
    "            best_score, best_student_name = score, name\n",
    "    return best_student_name\n",
    "\n",
    "# do not modify below this line\n",
    "print(best_student([(\"Alice\", 90), (\"Bob\", 80), (\"Charlie\", 70)]))\n",
    "print(best_student([(\"Alice\", 90), (\"Bob\", 80), (\"Charlie\", 100)]))\n",
    "print(best_student([(\"Alice\", 90), (\"Bob\", 100), (\"Charlie\", 70)]))\n",
    "print(best_student([(\"Alice\", 90), (\"Bob\", 90), (\"Charlie\", 80), (\"David\", 100)]))"
   ]
  },
  {
   "cell_type": "markdown",
   "metadata": {},
   "source": [
    "**Enumerate() function**\n",
    "\n",
    "Suppose we wanted to loop over an array and we needed to access both the index and the element at that index."
   ]
  }
 ],
 "metadata": {
  "kernelspec": {
   "display_name": "Python 3",
   "language": "python",
   "name": "python3"
  },
  "language_info": {
   "codemirror_mode": {
    "name": "ipython",
    "version": 3
   },
   "file_extension": ".py",
   "mimetype": "text/x-python",
   "name": "python",
   "nbconvert_exporter": "python",
   "pygments_lexer": "ipython3",
   "version": "3.12.0"
  }
 },
 "nbformat": 4,
 "nbformat_minor": 2
}
