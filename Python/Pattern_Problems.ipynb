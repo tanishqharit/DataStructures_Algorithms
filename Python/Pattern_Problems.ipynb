{
 "cells": [
  {
   "cell_type": "code",
   "execution_count": null,
   "metadata": {},
   "outputs": [
    {
     "name": "stdout",
     "output_type": "stream",
     "text": [
      "*****\n",
      "*****\n",
      "*****\n",
      "*****\n",
      "*****\n"
     ]
    }
   ],
   "source": [
    "# Solid Square\n",
    "\n",
    "def solidSquare():\n",
    "    n = 5\n",
    "    for i in range(n):\n",
    "        for j in range(n):\n",
    "            print(\"*\", end=\"\")\n",
    "        print()\n",
    "\n",
    "solidSquare()\n",
    "\n",
    "# Complexity: O(n^2) - 2 loops, loop within a loop.\n",
    "\n",
    "# n = 5 represents both no. of columns and no. of rows of the square.\n",
    "# First loop runs, iterating i from 0 to 4. Each iteration gives a row.\n",
    "# Second (Inner) loop n (5) times, iterating j from 0 to 4. Each iteration gives a single \"*\".\n",
    "# print(\"*\",end=\"\"), here end = \"\" ensures that \"*\" printed on the same line, 5 times.\n",
    "# After inner loop is complete, print() moves cursor to next line, starting a new row.\n",
    "# Then again first loop runs for the same process. This happens till n (5)."
   ]
  },
  {
   "cell_type": "code",
   "execution_count": null,
   "metadata": {},
   "outputs": [
    {
     "name": "stdout",
     "output_type": "stream",
     "text": [
      "*\n",
      "**\n",
      "***\n",
      "****\n",
      "*****\n"
     ]
    }
   ],
   "source": [
    "# Downward Rectangle\n",
    "\n",
    "def downwardRectangle():\n",
    "    n = 0\n",
    "    for i in range(5):\n",
    "        n = n + 1\n",
    "        for j in range(n):\n",
    "            print(\"*\", end=\"\")\n",
    "        print()\n",
    "\n",
    "downwardRectangle()\n",
    "\n",
    "# Complexity: O(n^2) - 2 loops, loop within a loop.\n",
    "\n",
    "# "
   ]
  },
  {
   "cell_type": "code",
   "execution_count": null,
   "metadata": {},
   "outputs": [
    {
     "name": "stdout",
     "output_type": "stream",
     "text": [
      "1\n",
      "12\n",
      "123\n",
      "1234\n",
      "12345\n"
     ]
    }
   ],
   "source": [
    "# Downward Numbers\n",
    "\n",
    "def downwardNumbers():\n",
    "    n = 0\n",
    "    for i in range(5):\n",
    "        n = n + 1\n",
    "        for j in range(n):\n",
    "            print(j+1, end =\"\")\n",
    "        print()\n",
    "\n",
    "downwardNumbers()\n",
    "\n",
    "# Complexity: "
   ]
  },
  {
   "cell_type": "code",
   "execution_count": 16,
   "metadata": {},
   "outputs": [
    {
     "name": "stdout",
     "output_type": "stream",
     "text": [
      "1\n",
      "22\n",
      "333\n",
      "4444\n",
      "55555\n"
     ]
    }
   ],
   "source": [
    "# Downward Similar Numbers\n",
    "\n",
    "def downwardSimilarNumbers():\n",
    "    n = 0\n",
    "    for i in range(5):\n",
    "        n = n + 1\n",
    "        for j in range(n):\n",
    "            print(n,end=\"\")\n",
    "        print()\n",
    "\n",
    "downwardSimilarNumbers()"
   ]
  },
  {
   "cell_type": "code",
   "execution_count": null,
   "metadata": {},
   "outputs": [
    {
     "name": "stdout",
     "output_type": "stream",
     "text": [
      "*****\n",
      "****\n",
      "***\n",
      "**\n",
      "*\n"
     ]
    }
   ],
   "source": [
    "# Upward Triangle\n",
    "\n",
    "def upwardTriangle():\n",
    "    n = 5\n",
    "    for i in range(n):\n",
    "        for j in range(n-i):\n",
    "            print(\"*\", end=\"\")\n",
    "        print()\n",
    "\n",
    "upwardTriangle()"
   ]
  },
  {
   "cell_type": "code",
   "execution_count": null,
   "metadata": {},
   "outputs": [],
   "source": [
    "def "
   ]
  }
 ],
 "metadata": {
  "kernelspec": {
   "display_name": "Python 3",
   "language": "python",
   "name": "python3"
  },
  "language_info": {
   "codemirror_mode": {
    "name": "ipython",
    "version": 3
   },
   "file_extension": ".py",
   "mimetype": "text/x-python",
   "name": "python",
   "nbconvert_exporter": "python",
   "pygments_lexer": "ipython3",
   "version": "3.12.0"
  }
 },
 "nbformat": 4,
 "nbformat_minor": 2
}
