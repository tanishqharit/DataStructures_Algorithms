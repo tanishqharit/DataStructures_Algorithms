{
 "cells": [
  {
   "cell_type": "markdown",
   "metadata": {},
   "source": [
    "GFG MainLink: https://www.geeksforgeeks.org/matrix/?ref=outind\n",
    "\n",
    "GFG SubLink1: https://www.geeksforgeeks.org/matrices/\n",
    "\n",
    "GFG SubLink2: "
   ]
  },
  {
   "cell_type": "markdown",
   "metadata": {},
   "source": [
    "Matrix is a 2D array arranged in rows and columns. \n",
    "\n",
    "Matrices allow for effecient storage and manupipulation of data in a structured format."
   ]
  }
 ],
 "metadata": {
  "language_info": {
   "name": "python"
  }
 },
 "nbformat": 4,
 "nbformat_minor": 2
}
