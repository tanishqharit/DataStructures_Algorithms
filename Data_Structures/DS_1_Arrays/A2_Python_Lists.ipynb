{
 "cells": [
  {
   "cell_type": "markdown",
   "metadata": {},
   "source": [
    "GFG Link: https://www.geeksforgeeks.org/python-lists/\n",
    "\n",
    "In python, list is a built-in data structure to store ordered collection of items. \n",
    "Lists are mutable, which means that their contents can be changed after list has been created. \n",
    "They can hold various data types (int,float,str), including other lists. "
   ]
  },
  {
   "cell_type": "code",
   "execution_count": 4,
   "metadata": {},
   "outputs": [
    {
     "name": "stdout",
     "output_type": "stream",
     "text": [
      "['Tanishq', 23, 21.12, ['DTU', 'Stevens Tech']]\n",
      "<class 'list'>\n",
      "<class 'list'>\n",
      "Seven Zeros: [0, 0, 0, 0, 0, 0, 0]\n"
     ]
    }
   ],
   "source": [
    "# Creating a list - using [] or using list() constructor: \n",
    "\n",
    "mylist = ['Tanishq', 23, 21.12, ['DTU','Stevens Tech']]\n",
    "print(mylist)\n",
    "print(type(mylist))\n",
    "\n",
    "mylist2 = list((1,2,3,4))\n",
    "print(type(mylist2))\n",
    "\n",
    "# List with repeated elements: (replication)\n",
    "list_of_zeros = [0] * 7\n",
    "print(\"Seven Zeros:\",list_of_zeros)"
   ]
  },
  {
   "cell_type": "markdown",
   "metadata": {},
   "source": [
    "List Operations: \n",
    "1. Accessing list elements - via indexing \n",
    "2. Adding elements \n",
    "3. Updating elements \n",
    "4. Removing Elements \n",
    "5. Iterating over a list \n",
    "6. Multidimensional list "
   ]
  },
  {
   "cell_type": "code",
   "execution_count": 2,
   "metadata": {},
   "outputs": [
    {
     "name": "stdout",
     "output_type": "stream",
     "text": [
      "4\n",
      "4\n"
     ]
    }
   ],
   "source": [
    "list = [1,2,3,4,5,6,7,8,9]\n",
    "\n",
    "# Accessing list elements - can be accessed using indexing. \n",
    "# Negative indexing allows us to access elements from the end of the list.\n",
    "\n",
    "print(list[3])\n",
    "print(list[-6])"
   ]
  },
  {
   "cell_type": "code",
   "execution_count": 4,
   "metadata": {},
   "outputs": [
    {
     "name": "stdout",
     "output_type": "stream",
     "text": [
      "Original list: []\n",
      "List after append: [10]\n",
      "List after extend: [10, 20, 30]\n",
      "List after insert: [10, 45, 20, 30]\n"
     ]
    }
   ],
   "source": [
    "# Adding elements to a list using following methods: \n",
    "# .append() - adding an element at the end of the list. \n",
    "# .extend() - adding multiple elements at the end of the list. \n",
    "# .insert() - adding an element at a specific index. \n",
    "\n",
    "# initialising an empty list \n",
    "list = []\n",
    "print(\"Original list:\",list)\n",
    "\n",
    "list.append(10)\n",
    "print(\"List after append:\",list)\n",
    "\n",
    "list.extend([20,30])\n",
    "print(\"List after extend:\",list)\n",
    "\n",
    "list.insert(1, 45)\n",
    "print(\"List after insert:\",list)"
   ]
  },
  {
   "cell_type": "code",
   "execution_count": 5,
   "metadata": {},
   "outputs": [
    {
     "name": "stdout",
     "output_type": "stream",
     "text": [
      "Before Update: ['Delhi', 'Mumbai', 'Bengluru', 'Hyderabad']\n",
      "After Update: ['Delhi', 'Pune', 'Bengluru', 'Hyderabad']\n"
     ]
    }
   ],
   "source": [
    "# Updating elements - chaging value of an element using its index. \n",
    "\n",
    "list = ['Delhi','Mumbai','Bengluru','Hyderabad']\n",
    "print(\"Before Update:\",list)\n",
    "\n",
    "list[1] = 'Pune'\n",
    "print(\"After Update:\",list)"
   ]
  },
  {
   "cell_type": "code",
   "execution_count": 10,
   "metadata": {},
   "outputs": [
    {
     "name": "stdout",
     "output_type": "stream",
     "text": [
      "Original list: [10, 20, 30, 40, 50]\n",
      "List after removing element 30: [10, 20, 40, 50]\n",
      "After popping at index 1: [10, 40, 50]\n",
      "After deleting element at index 0: [40, 50]\n"
     ]
    }
   ],
   "source": [
    "# Removing elements using the following methods: \n",
    "# .remove() - removes first occurance of an element. \n",
    "# .pop() - removes an element at a specific index or removes last if no index is specified. \n",
    "# delete statement - deletes an element at a specific index. \n",
    "\n",
    "a = [10, 20, 30, 40, 50]\n",
    "print(\"Original list:\",a)\n",
    "\n",
    "a.remove(30)\n",
    "print(\"List after removing element 30:\",a)\n",
    "\n",
    "a.pop(1)\n",
    "print(\"After popping at index 1:\",a)\n",
    "\n",
    "del a[0]\n",
    "print(\"After deleting element at index 0:\",a)"
   ]
  },
  {
   "cell_type": "code",
   "execution_count": 13,
   "metadata": {},
   "outputs": [
    {
     "name": "stdout",
     "output_type": "stream",
     "text": [
      "apple\n",
      "banana\n",
      "cherry\n"
     ]
    }
   ],
   "source": [
    "# Iterating over lists using loops \n",
    "\n",
    "fruits = ['apple','banana','cherry']\n",
    "for i in range(len(fruits)):\n",
    "    print(fruits[i])"
   ]
  },
  {
   "cell_type": "code",
   "execution_count": 15,
   "metadata": {},
   "outputs": [
    {
     "name": "stdout",
     "output_type": "stream",
     "text": [
      "6\n"
     ]
    }
   ],
   "source": [
    "# Multidimensional lists and Nested lists \n",
    "# Nested lists is a list within another list, which is useful to representing tables and matrices. \n",
    "# We can access nested elements by changing indexes. \n",
    "\n",
    "matrix = [\n",
    "    [1,2,3],\n",
    "    [4,5,6],\n",
    "    [7,8,9]\n",
    "]\n",
    "\n",
    "# Accessing element at row 2 column 3   (remember index starts at 0)\n",
    "print(matrix[1][2])"
   ]
  }
 ],
 "metadata": {
  "kernelspec": {
   "display_name": "Python 3",
   "language": "python",
   "name": "python3"
  },
  "language_info": {
   "codemirror_mode": {
    "name": "ipython",
    "version": 3
   },
   "file_extension": ".py",
   "mimetype": "text/x-python",
   "name": "python",
   "nbconvert_exporter": "python",
   "pygments_lexer": "ipython3",
   "version": "3.12.0"
  }
 },
 "nbformat": 4,
 "nbformat_minor": 2
}
