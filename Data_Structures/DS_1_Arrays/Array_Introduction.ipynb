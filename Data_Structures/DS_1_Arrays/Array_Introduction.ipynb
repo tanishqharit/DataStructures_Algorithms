{
 "cells": [
  {
   "cell_type": "markdown",
   "metadata": {},
   "source": [
    "Array is a collection of items of 'similar datatype' that is stored at a 'contiguous memmory location'. \n",
    "\n",
    "Basic Terminologies: \n",
    "1. Array Index - Elements are identified theier indexes, array index starts from 0. \n",
    "2. Array Element - Elements are items stored in an array and can be accessed by their index. \n",
    "3. Array Length - Number of elements in an array. \n",
    "\n",
    "Memory Representation: \n"
   ]
  },
  {
   "cell_type": "code",
   "execution_count": null,
   "metadata": {},
   "outputs": [],
   "source": [
    "# Declaration of Array (List in Python)\n",
    "myArray = []\n",
    "\n",
    "# Initialisation of Array \n",
    "myArray = [1,2,3,4,5]\n",
    "myCharArray = ['a','b','c','d','e']\n",
    "myStringArray = ['Tanishq','Harit']\n",
    "myFloatArray = ['1.0','3.15','9.18','0.0']"
   ]
  },
  {
   "cell_type": "markdown",
   "metadata": {},
   "source": [
    "Types of Arrays: \n",
    "1. On the basis of size - Static (Fixed Size) and Dynamic Arrays\n",
    "2. On the basis of dimension - 1D Array and Multi-Dimensional Array (2D, 3D, 4D ...)\n",
    "\n",
    "Static Arrays: \n",
    "We cannot alter or update size of this array. Here, a fixed size of memory will be allocated for storage. \n",
    "In case if we don't know the size of the array then we declare a larger size array and store less values.\n",
    "But, this will result in memory wastage. \n",
    "\n",
    "Python by default have Dynamic Arrays.\n",
    "\n",
    "Dynamic Arrays: \n",
    "Size of the array changes as per the coder's requirements during execution, so coders don't have to worry.\n",
    "Memory is dynamically allocated and de-allocated in these arrays.\n",
    "\n",
    "One-Dimensional Array: \n",
    "Row of elements, ex: myArray = [1,2,3,4,5]\n",
    "\n",
    "Multi-Dimensional Array: \n",
    "Arrays with more than one dimension. To store more complex data in forms of tables etc.\n",
    "1. 2D - Can be considered as a matrix with rows and columns. \n",
    "2. 3D - Array of 2D Array. "
   ]
  },
  {
   "cell_type": "markdown",
   "metadata": {},
   "source": [
    "Operations on Arrays\n",
    "1. Array Traversal \n",
    "2. Insertion in Array \n",
    "3. Deletion in Array \n",
    "4. Searching in Array "
   ]
  },
  {
   "cell_type": "code",
   "execution_count": null,
   "metadata": {},
   "outputs": [
    {
     "name": "stdout",
     "output_type": "stream",
     "text": [
      "Using for loop\n",
      "1 2 3 4 5 \n",
      "Using while loop\n",
      "1 2 3 4 5 "
     ]
    }
   ],
   "source": [
    "# Array Traversal - Visiting all elements of an array once using loops. \n",
    "\n",
    "myArray = [1,2,3,4,5]\n",
    "\n",
    "print(\"Using for loop\")\n",
    "for i in range(len(myArray)):\n",
    "    print(myArray[i], end =\" \")\n",
    "\n",
    "print()\n",
    "\n",
    "print(\"Using while loop\")\n",
    "i = 0\n",
    "while i < len(myArray):\n",
    "    print(myArray[i], end =\" \")\n",
    "    i += 1"
   ]
  },
  {
   "cell_type": "code",
   "execution_count": 6,
   "metadata": {},
   "outputs": [
    {
     "name": "stdout",
     "output_type": "stream",
     "text": [
      "Original Array: [1, 2, 3, 4, 5]\n",
      "Updated Array: [1, 2, 10, 3, 4, 5]\n"
     ]
    }
   ],
   "source": [
    "# Insertion in Array - we can insert multiple elements at any position in an array. \n",
    "\n",
    "myArray = [1,2,3,4,5]\n",
    "print(\"Original Array:\",myArray)\n",
    "\n",
    "new_element = 10        # element to be inserted. \n",
    "index_position = 2      # index position at which element is going to be inserted. \n",
    "\n",
    "# Using .insert method \n",
    "myArray.insert(index_position, new_element)\n",
    "print(\"Updated Array:\",myArray)"
   ]
  },
  {
   "cell_type": "code",
   "execution_count": 8,
   "metadata": {},
   "outputs": [
    {
     "name": "stdout",
     "output_type": "stream",
     "text": [
      "Original Array: [10, 20, 30, 40, 50]\n",
      "Case 1\n",
      "Updated List: [10, 20, 30, 50]\n",
      "Case 2\n",
      "Element not found.\n"
     ]
    }
   ],
   "source": [
    "# Deletion in Array - we can delete an element \n",
    "\n",
    "myArray = [10,20,30,40,50]\n",
    "print(\"Original Array:\",myArray)\n",
    "\n",
    "print(\"Case 1\")\n",
    "target_element = 40 \n",
    "\n",
    "if target_element in myArray:\n",
    "    myArray.remove(target_element)\n",
    "else:\n",
    "    print(\"Element not found.\")\n",
    "print(\"Updated List:\",myArray)\n",
    "\n",
    "print(\"Case 2\")\n",
    "target_element = 49\n",
    "\n",
    "if target_element in myArray:\n",
    "    myArray.remove(target_element)\n",
    "else:\n",
    "    print(\"Element not found.\")"
   ]
  },
  {
   "cell_type": "code",
   "execution_count": null,
   "metadata": {},
   "outputs": [
    {
     "name": "stdout",
     "output_type": "stream",
     "text": [
      "3\n",
      "Element not found.\n"
     ]
    }
   ],
   "source": [
    "# Searching in Array - we can search an element by traversing \n",
    "\n",
    "def find_elemnt(myArray, length, key):\n",
    "    for index in range(length):\n",
    "        if myArray[index] == key:\n",
    "            return index\n",
    "    return \"Element not found.\"\n",
    "\n",
    "print(find_elemnt([1,2,3,4,5], 5, 4))   # (array, length of array, element we are searching)\n",
    "print(find_elemnt([1,2,3,4,5], 5, 6))"
   ]
  }
 ],
 "metadata": {
  "kernelspec": {
   "display_name": "Python 3",
   "language": "python",
   "name": "python3"
  },
  "language_info": {
   "codemirror_mode": {
    "name": "ipython",
    "version": 3
   },
   "file_extension": ".py",
   "mimetype": "text/x-python",
   "name": "python",
   "nbconvert_exporter": "python",
   "pygments_lexer": "ipython3",
   "version": "3.12.0"
  }
 },
 "nbformat": 4,
 "nbformat_minor": 2
}
