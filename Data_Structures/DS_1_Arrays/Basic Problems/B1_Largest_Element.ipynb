{
 "cells": [
  {
   "cell_type": "markdown",
   "metadata": {},
   "source": [
    "We can find largest element in an array using the following approaches\n",
    "1. Iterative Approach \n",
    "2. Using library methods \n",
    "3. Recursive Approach"
   ]
  },
  {
   "cell_type": "code",
   "execution_count": 2,
   "metadata": {},
   "outputs": [
    {
     "name": "stdout",
     "output_type": "stream",
     "text": [
      "Largest element in the given array is: 45\n"
     ]
    }
   ],
   "source": [
    "# Iterative approach - Traversing through all the elements in an array and finding maximum among them.\n",
    "\n",
    "def Largest(array):\n",
    "    largest_element = array[0]      # local variable to store largest element (initially 0).\n",
    "    \n",
    "    for i in range(len(array)):             # incrementing using range function \n",
    "        if array[i] > largest_element:      # comparing array[i] with largest_element \n",
    "            largest_element = array[i]      # if array[i] > largest_element, then update \n",
    "    return largest_element\n",
    "\n",
    "result = Largest([10, 23, 45, 14, 9.0, 27])\n",
    "print(\"Largest element in the given array is:\",result)"
   ]
  },
  {
   "cell_type": "code",
   "execution_count": 3,
   "metadata": {},
   "outputs": [
    {
     "name": "stdout",
     "output_type": "stream",
     "text": [
      "9808\n"
     ]
    }
   ],
   "source": [
    "# Using Python 'max' function \n",
    "\n",
    "myArray = [10, 324, 45, 90, 9808]\n",
    "print(max(myArray))"
   ]
  },
  {
   "cell_type": "code",
   "execution_count": null,
   "metadata": {},
   "outputs": [],
   "source": [
    "# Recursive Method - pending"
   ]
  }
 ],
 "metadata": {
  "kernelspec": {
   "display_name": "Python 3",
   "language": "python",
   "name": "python3"
  },
  "language_info": {
   "codemirror_mode": {
    "name": "ipython",
    "version": 3
   },
   "file_extension": ".py",
   "mimetype": "text/x-python",
   "name": "python",
   "nbconvert_exporter": "python",
   "pygments_lexer": "ipython3",
   "version": "3.12.0"
  }
 },
 "nbformat": 4,
 "nbformat_minor": 2
}
