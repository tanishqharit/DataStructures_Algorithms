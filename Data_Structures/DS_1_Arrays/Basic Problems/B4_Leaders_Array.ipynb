{
 "cells": [
  {
   "cell_type": "markdown",
   "metadata": {},
   "source": [
    "GFG Link: https://www.geeksforgeeks.org/leaders-in-an-array/"
   ]
  },
  {
   "cell_type": "markdown",
   "metadata": {},
   "source": [
    "Given an array of size n, task is to find all the leaders in the array. \n",
    "\n",
    "An element is a leader if it is greater than all the elements to its right side.\n",
    "\n",
    "Note: Rightmost element is always the leader.\n",
    "\n",
    "Example: array = [16, 17, 4, 3, 5, 2], Output: 17, 5, 2"
   ]
  },
  {
   "cell_type": "markdown",
   "metadata": {},
   "source": [
    "Approach 1: Naive Solution - Using Nested Loops \n",
    "\n",
    "The outer loop runs from 0 to (n-1) and picking elements one by one from left to right. \n",
    "\n",
    "The inner loop compares the picked element to all the elements on its right side. If the picked element is greater than all the elements to its right side, then the picked element is the leader. \n",
    "\n",
    "Complexity: O(n^2) Time and O(1) Space"
   ]
  },
  {
   "cell_type": "code",
   "execution_count": 3,
   "metadata": {},
   "outputs": [
    {
     "name": "stdout",
     "output_type": "stream",
     "text": [
      "[17, 5, 2]\n"
     ]
    }
   ],
   "source": [
    "def leaders(array):\n",
    "    \n",
    "    result = []\n",
    "    n = len(array)\n",
    "    \n",
    "    for i in range(n):\n",
    "        for j in range(i+1, n):\n",
    "            if array[i] < array[j]:\n",
    "                break\n",
    "        else:\n",
    "            result.append(array[i])\n",
    "    \n",
    "    return result\n",
    "\n",
    "if __name__ == \"__main__\":\n",
    "    array = [16, 17, 4, 3, 5, 2]\n",
    "    result = leaders(array)\n",
    "    print(result)"
   ]
  },
  {
   "cell_type": "markdown",
   "metadata": {},
   "source": [
    "Approach 2: "
   ]
  }
 ],
 "metadata": {
  "kernelspec": {
   "display_name": "Python 3",
   "language": "python",
   "name": "python3"
  },
  "language_info": {
   "codemirror_mode": {
    "name": "ipython",
    "version": 3
   },
   "file_extension": ".py",
   "mimetype": "text/x-python",
   "name": "python",
   "nbconvert_exporter": "python",
   "pygments_lexer": "ipython3",
   "version": "3.12.0"
  }
 },
 "nbformat": 4,
 "nbformat_minor": 2
}
