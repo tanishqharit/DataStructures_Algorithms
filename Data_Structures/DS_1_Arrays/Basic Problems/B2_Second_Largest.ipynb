{
 "cells": [
  {
   "cell_type": "markdown",
   "metadata": {},
   "source": [
    "GFG Link: https://www.geeksforgeeks.org/find-second-largest-element-array/"
   ]
  },
  {
   "cell_type": "markdown",
   "metadata": {},
   "source": [
    "Given an array of positive integers array[] and size 'n'.\n",
    "Task is to find second largest distinct element in the array. \n",
    "If second largest element does not exist return -1. \n",
    "\n",
    "example: array = [12,35,1,10,34], Output: 34 \n",
    "\n",
    "Approaches: \n",
    "\n",
    "1. Naive Approach (Using Sorting)\n",
    "2. Better Approach (Two Pass Search)\n",
    "3. Expected Approach (One Pass Search)"
   ]
  },
  {
   "cell_type": "code",
   "execution_count": 3,
   "metadata": {},
   "outputs": [
    {
     "name": "stdout",
     "output_type": "stream",
     "text": [
      "34\n",
      "20\n",
      "35\n"
     ]
    }
   ],
   "source": [
    "# Naive Approach \n",
    "# First, we will sort the array in non-decreasing order. Now we know that largest element will \n",
    "# at index (n - 1). So, starting from index (n - 2), traverse the remaining array in reverse order. \n",
    "# As soon as we encounter an element which is not-equal to the largest element, return it as the \n",
    "# second largest element. If all the elements are equal to the largest element, return -1.\n",
    "\n",
    "def secondLargest(array):\n",
    "    \n",
    "    n = len(array)\n",
    "    \n",
    "    # Sorting the array in non-decreasing order \n",
    "    array.sort()\n",
    "    \n",
    "    # Starting from second last element, as last element is largest\n",
    "    \n",
    "    for i in range(n - 2, -1, -1):      # range(start, stop, step)\n",
    "    \n",
    "        # returning the first element which is not equal to the largest element\n",
    "        if array[i] != array[n - 1]:\n",
    "            return array[i]\n",
    "        \n",
    "    return -1   # if no second largest element was found. \n",
    "\n",
    "if __name__ == \"__main__\":\n",
    "    array = [12, 35, 1, 10, 34, 1]\n",
    "    print(secondLargest(array)) \n",
    "    \n",
    "    array = [10, 20, 20, 35]\n",
    "    print(secondLargest(array)) \n",
    "    \n",
    "    array = [35, 42, 10, 10, 5]\n",
    "    print(secondLargest(array)) "
   ]
  }
 ],
 "metadata": {
  "kernelspec": {
   "display_name": "Python 3",
   "language": "python",
   "name": "python3"
  },
  "language_info": {
   "codemirror_mode": {
    "name": "ipython",
    "version": 3
   },
   "file_extension": ".py",
   "mimetype": "text/x-python",
   "name": "python",
   "nbconvert_exporter": "python",
   "pygments_lexer": "ipython3",
   "version": "3.12.0"
  }
 },
 "nbformat": 4,
 "nbformat_minor": 2
}
