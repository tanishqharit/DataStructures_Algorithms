{
 "cells": [
  {
   "cell_type": "markdown",
   "metadata": {},
   "source": [
    "GFG Link: https://www.geeksforgeeks.org/find-the-largest-three-elements-in-an-array/"
   ]
  },
  {
   "cell_type": "markdown",
   "metadata": {},
   "source": [
    "Given an array, find the largest three elements. Only distinct elements.\n",
    "\n",
    "Example: array = [10, 4, 3, 50, 23, 90], Output: 90, 50, 23"
   ]
  },
  {
   "cell_type": "markdown",
   "metadata": {},
   "source": [
    "Approach 1: Naive Solution (Three Traversals):\n",
    "\n",
    "1. Finding first largest element by doing traversal. \n",
    "2. Finding second largest element by finding largest which is not equal to first. \n",
    "3. Finding third largest element by finding largest which is not equal to first and second."
   ]
  },
  {
   "cell_type": "code",
   "execution_count": null,
   "metadata": {},
   "outputs": [],
   "source": [
    "def threeLargest(array):\n",
    "    \n",
    "    array_size = len(array)\n",
    "    array.sort()\n",
    "    \n",
    "    if array_size < 3:              # If size of array is less than 3.\n",
    "        print(\"Invalid Array!\")\n",
    "        return\n",
    "    \n",
    "    for i in range(n):\n",
    "        if array[i] > "
   ]
  }
 ],
 "metadata": {
  "language_info": {
   "name": "python"
  }
 },
 "nbformat": 4,
 "nbformat_minor": 2
}
