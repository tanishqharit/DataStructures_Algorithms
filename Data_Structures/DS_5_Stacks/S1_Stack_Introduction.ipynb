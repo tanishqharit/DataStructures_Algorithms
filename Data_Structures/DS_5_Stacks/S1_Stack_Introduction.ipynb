{
 "cells": [
  {
   "cell_type": "markdown",
   "metadata": {},
   "source": [
    "GFG MainLink: https://www.geeksforgeeks.org/stack-data-structure/?ref=outind\n",
    "\n",
    "GFG SubLink1: https://www.geeksforgeeks.org/introduction-to-stack-data-structure-and-algorithm-tutorials/\n",
    "\n",
    "GFG SubLink2: "
   ]
  },
  {
   "cell_type": "markdown",
   "metadata": {},
   "source": [
    "A Stack is a linear data structure that follows LIFO(Last In First Out) or FILO(First In Last Out). \n",
    "\n",
    "It behaves like a stack of plates, where the last plate added is the first one to be removed."
   ]
  },
  {
   "cell_type": "markdown",
   "metadata": {},
   "source": [
    "Types of Stack Data Structure: \n",
    "\n",
    "1. Fixed Size: Have a fixed size, cannot grow to shrink. If the stack is full and an attempt is made to add an element to it, overflow error occurs. Similarly, if the stack is empty and an attempt is made to remove an element, underflow error occurs. \n",
    "\n",
    "2. Dynamic Size: Stack can grow or shrink dynamically. When the stack is full, it automatically increases the size to accomodate new element and when stack is empty, it decreases its size.\n",
    "Dynamic stacks are implemented using linked list, as it allows for easy resizing of stack. "
   ]
  },
  {
   "cell_type": "code",
   "execution_count": null,
   "metadata": {},
   "outputs": [],
   "source": [
    "# Array based implementation of Stack \n",
    "\n",
    "def createStack():      # initialising stack of size 0\n",
    "    stack = []\n",
    "    return stack \n",
    "\n",
    "def isEmpty(stack):\n",
    "    return len(stack) == 0      # will return either true or false \n",
    "\n",
    "def push(stack, item):      # adding an item to stack \n",
    "    stack.append(item)\n",
    "    print(item + \" pushed to stack.\")\n",
    "\n",
    "# TBC..."
   ]
  }
 ],
 "metadata": {
  "kernelspec": {
   "display_name": "Python 3",
   "language": "python",
   "name": "python3"
  },
  "language_info": {
   "name": "python",
   "version": "3.12.0"
  }
 },
 "nbformat": 4,
 "nbformat_minor": 2
}
